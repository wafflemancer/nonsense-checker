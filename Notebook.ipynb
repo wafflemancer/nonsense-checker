{
 "cells": [
  {
   "cell_type": "code",
   "execution_count": 1,
   "metadata": {
    "collapsed": false
   },
   "outputs": [],
   "source": [
    "import nltk.data\n",
    "import urllib.request as urllib\n",
    "import json\n",
    "import unicodedata\n",
    "import re\n",
    "# nltk.download()"
   ]
  },
  {
   "cell_type": "code",
   "execution_count": 70,
   "metadata": {
    "collapsed": true
   },
   "outputs": [],
   "source": [
    "def clean_page(s):\n",
    "    s = unicodedata.normalize(\"NFKD\", s)\n",
    "    s = re.sub('\\\\n', ' ', s)\n",
    "    pattern = re.compile('<.*?>')\n",
    "    return re.sub(pattern, '', s)\n",
    "\n",
    "def strip_quotes(s):\n",
    "    if s[0] in (\"'\",'\"'):\n",
    "        s = s[1:]\n",
    "    if s[-1] in (\"'\",'\"'):\n",
    "        s = s[0:-1]\n",
    "    return s\n",
    "\n",
    "def split_words(s):\n",
    "    # quotes being stripped for simplicity\n",
    "    quotes = ('\"',\"'\",'\"\"',\"''\")\n",
    "    s = re.findall(r\"[\\w']+|[.,!?;]\", s.strip())\n",
    "    return [strip_quotes(i) for i in s if i not in quotes]\n"
   ]
  },
  {
   "cell_type": "code",
   "execution_count": 74,
   "metadata": {
    "collapsed": false
   },
   "outputs": [],
   "source": [
    "# get content & prepare data\n",
    "with open('data.json') as json_data:  # some collection of scrapes\n",
    "    d = json.load(json_data)\n",
    "d_list = []\n",
    "for i in d:\n",
    "    d_list.append(clean_page(i[1]))\n",
    "c = ' '.join(d_list)\n",
    "del d, d_list\n",
    "\n",
    "with open('data.txt','w') as f:\n",
    "    f.write(c)\n",
    "\n",
    "tokenizer = nltk.data.load('tokenizers/punkt/english.pickle')\n",
    "data = open(\"data.txt\").read()\n",
    "t = tokenizer.tokenize(data)\n",
    "clean = [split_words(i) for i in t]"
   ]
  }
 ],
 "metadata": {
  "anaconda-cloud": {},
  "kernelspec": {
   "display_name": "Python [conda env:tensorflow]",
   "language": "python",
   "name": "conda-env-tensorflow-py"
  },
  "language_info": {
   "codemirror_mode": {
    "name": "ipython",
    "version": 3
   },
   "file_extension": ".py",
   "mimetype": "text/x-python",
   "name": "python",
   "nbconvert_exporter": "python",
   "pygments_lexer": "ipython3",
   "version": "3.5.2"
  }
 },
 "nbformat": 4,
 "nbformat_minor": 1
}
